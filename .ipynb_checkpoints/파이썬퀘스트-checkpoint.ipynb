{
 "cells": [
  {
   "cell_type": "markdown",
   "metadata": {
    "colab_type": "text",
    "id": "view-in-github"
   },
   "source": [
    "<a href=\"https://colab.research.google.com/github/ez4happy/first-repository/blob/master/%ED%8C%8C%EC%9D%B4%EC%8D%AC%ED%80%98%EC%8A%A4%ED%8A%B8.ipynb\" target=\"_parent\"><img src=\"https://colab.research.google.com/assets/colab-badge.svg\" alt=\"Open In Colab\"/></a>"
   ]
  },
  {
   "cell_type": "code",
   "execution_count": 10,
   "metadata": {
    "colab": {
     "base_uri": "https://localhost:8080/"
    },
    "id": "t_Bmd2k8OcqD",
    "outputId": "fe95aa9c-ceb1-4e1f-a861-7698cdf3a15d"
   },
   "outputs": [
    {
     "name": "stdout",
     "output_type": "stream",
     "text": [
      "10000\n"
     ]
    }
   ],
   "source": [
    "import random\n",
    "\n",
    "class Account:\n",
    "  account_count = 0\n",
    "  def __init__(self, owner, initial_balance):\n",
    "    self.bank_name = \"SCbank\" # 은행 이름\n",
    "    self.owner = owner # 예금주\n",
    "    self.balance = initial_balance # 초기 잔액\n",
    "    self.account_number = self.generate_account_number() # 랜덤 계좌 번호 생성\n",
    "    self.deposit_count = 0  # 내용 추가: 입금 횟수 초기화\n",
    "    self.deposit_history = []  # 내용 추가: 입금 내역 리스트\n",
    "    self.withdraw_history = []  # 내용 추가: 출금 내역 리스트\n",
    "    Account.account_count += 1 # 계좌 개수 증가\n",
    "\n",
    "  def generate_account_number(self):\n",
    "      first = random.randint(100,999) # 3자리 랜덤 숫자\n",
    "      second = random.randint(10,99) # 2자리 랜덤 숫자\n",
    "      third = random.randint(100000,999999) # 6자리 랜덤 숫자\n",
    "      return f\"{first}-{second}-{third}\" # 계좌 번호 형식\n",
    "\n",
    "  @classmethod # indentation 주의!\n",
    "  def get_acount_num(cls):\n",
    "       return cls.account_count # 계좌 개수 반환\n",
    "\n",
    "\n",
    "  def deposit(self, amount):\n",
    "      if amount < 1:\n",
    "          print(\"최소 1원이상 입금 가능\") # 유효성 검사\n",
    "      else:\n",
    "          self.balance += amount # 잔액에 입금액 추가\n",
    "          self.deposit_count += 1 # 입금 횟수 증가\n",
    "          self.deposit_history.append(amount)  # 내용 추가: 입금 내역 기록\n",
    "          print(f\"{amount}원 입금되었습니다. 현잔액 {self.balance}원\")\n",
    "          if self.deposit_count%5 == 0 :\n",
    "             interest = self.balance * 0.01 # 1% 이자 계산\n",
    "             self.balance += interest # 잔고에 이자 추가\n",
    "\n",
    "  def withdraw(self, amount):\n",
    "      if amount > self.balance: # 잔고 부족\n",
    "          print(\"잔고 부족\")\n",
    "      else:\n",
    "          self.banlace -= amount # 잔액에서 출금액 차감\n",
    "          print(f\"{amount}원 출금되셨습니다. 현잔액 {self.balance}원\")\n",
    "\n",
    "  def display_info(self):\n",
    "      print(f\"은행이름 : {self.bank_name}, 예금주 : {self.owner}, 계좌번호 : {self.account_number}, 잔고 : {self.balance}원\")\n",
    "\n",
    "# Account 클래스의 인스턴스를 생성        \n",
    "account1 = Account(\"노승호\", 100)\n",
    "account2 = Account(\"권미경\", 1000)\n",
    "account3 = Account(\"김정은\", 10000)\n",
    "\n",
    "# 계좌 객체를 리스트에 저장\n",
    "accounts = [account1, account2, account3]\n",
    "\n",
    "print(account3.balance)\n",
    "\n",
    "# (구현 안되어서 추가) 잔고가 100만원 이상인 고객의 정보 출력\n",
    "for account in accounts:\n",
    "    if account.balance >= 1000000:\n",
    "        account.display_info()\n",
    "\n",
    "# (구현 안되어서 추가) 총 생성된 계좌 수 출력\n",
    "print(f\"총 생성된 계좌 수: {Account.get_acount_num()}개\")\n",
    "\n",
    "\n"
   ]
  }
 ],
 "metadata": {
  "colab": {
   "authorship_tag": "ABX9TyNdeIXHzkTZBDmIu31mb7ri",
   "include_colab_link": true,
   "provenance": []
  },
  "kernelspec": {
   "display_name": "Python 3",
   "language": "python",
   "name": "python3"
  },
  "language_info": {
   "codemirror_mode": {
    "name": "ipython",
    "version": 3
   },
   "file_extension": ".py",
   "mimetype": "text/x-python",
   "name": "python",
   "nbconvert_exporter": "python",
   "pygments_lexer": "ipython3",
   "version": "3.8.8"
  }
 },
 "nbformat": 4,
 "nbformat_minor": 1
}
