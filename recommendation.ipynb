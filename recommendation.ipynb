{
 "cells": [
  {
   "cell_type": "code",
   "execution_count": 864,
   "id": "215754e8",
   "metadata": {},
   "outputs": [
    {
     "name": "stdout",
     "output_type": "stream",
     "text": [
      "1.3.3\n",
      "2.6.0\n"
     ]
    }
   ],
   "source": [
    "import pandas\n",
    "import tensorflow\n",
    "\n",
    "print(pandas.__version__)\n",
    "print(tensorflow.__version__)"
   ]
  },
  {
   "cell_type": "code",
   "execution_count": 865,
   "id": "adc15261",
   "metadata": {},
   "outputs": [],
   "source": [
    "import datetime as dt\n",
    "from pathlib import Path\n",
    "import os\n",
    "import time\n",
    "from datetime import datetime\n",
    "from IPython.display import display\n",
    "\n",
    "import numpy as np\n",
    "import pandas as pd\n",
    "import matplotlib.pyplot as plt\n",
    "import warnings\n",
    "warnings.filterwarnings('ignore')"
   ]
  },
  {
   "cell_type": "code",
   "execution_count": 866,
   "id": "ef0bbdf0",
   "metadata": {},
   "outputs": [
    {
     "data": {
      "text/html": [
       "<div>\n",
       "<style scoped>\n",
       "    .dataframe tbody tr th:only-of-type {\n",
       "        vertical-align: middle;\n",
       "    }\n",
       "\n",
       "    .dataframe tbody tr th {\n",
       "        vertical-align: top;\n",
       "    }\n",
       "\n",
       "    .dataframe thead th {\n",
       "        text-align: right;\n",
       "    }\n",
       "</style>\n",
       "<table border=\"1\" class=\"dataframe\">\n",
       "  <thead>\n",
       "    <tr style=\"text-align: right;\">\n",
       "      <th></th>\n",
       "      <th>UserId</th>\n",
       "      <th>ItemId</th>\n",
       "      <th>Rating</th>\n",
       "      <th>Time</th>\n",
       "    </tr>\n",
       "  </thead>\n",
       "  <tbody>\n",
       "    <tr>\n",
       "      <th>31</th>\n",
       "      <td>1</td>\n",
       "      <td>3186</td>\n",
       "      <td>4</td>\n",
       "      <td>978300019</td>\n",
       "    </tr>\n",
       "    <tr>\n",
       "      <th>22</th>\n",
       "      <td>1</td>\n",
       "      <td>1270</td>\n",
       "      <td>5</td>\n",
       "      <td>978300055</td>\n",
       "    </tr>\n",
       "    <tr>\n",
       "      <th>27</th>\n",
       "      <td>1</td>\n",
       "      <td>1721</td>\n",
       "      <td>4</td>\n",
       "      <td>978300055</td>\n",
       "    </tr>\n",
       "    <tr>\n",
       "      <th>37</th>\n",
       "      <td>1</td>\n",
       "      <td>1022</td>\n",
       "      <td>5</td>\n",
       "      <td>978300055</td>\n",
       "    </tr>\n",
       "    <tr>\n",
       "      <th>24</th>\n",
       "      <td>1</td>\n",
       "      <td>2340</td>\n",
       "      <td>3</td>\n",
       "      <td>978300103</td>\n",
       "    </tr>\n",
       "    <tr>\n",
       "      <th>...</th>\n",
       "      <td>...</td>\n",
       "      <td>...</td>\n",
       "      <td>...</td>\n",
       "      <td>...</td>\n",
       "    </tr>\n",
       "    <tr>\n",
       "      <th>1000019</th>\n",
       "      <td>6040</td>\n",
       "      <td>2917</td>\n",
       "      <td>4</td>\n",
       "      <td>997454429</td>\n",
       "    </tr>\n",
       "    <tr>\n",
       "      <th>999988</th>\n",
       "      <td>6040</td>\n",
       "      <td>1921</td>\n",
       "      <td>4</td>\n",
       "      <td>997454464</td>\n",
       "    </tr>\n",
       "    <tr>\n",
       "      <th>1000172</th>\n",
       "      <td>6040</td>\n",
       "      <td>1784</td>\n",
       "      <td>3</td>\n",
       "      <td>997454464</td>\n",
       "    </tr>\n",
       "    <tr>\n",
       "      <th>1000167</th>\n",
       "      <td>6040</td>\n",
       "      <td>161</td>\n",
       "      <td>3</td>\n",
       "      <td>997454486</td>\n",
       "    </tr>\n",
       "    <tr>\n",
       "      <th>1000042</th>\n",
       "      <td>6040</td>\n",
       "      <td>1221</td>\n",
       "      <td>4</td>\n",
       "      <td>998315055</td>\n",
       "    </tr>\n",
       "  </tbody>\n",
       "</table>\n",
       "<p>1000209 rows × 4 columns</p>\n",
       "</div>"
      ],
      "text/plain": [
       "         UserId  ItemId  Rating       Time\n",
       "31            1    3186       4  978300019\n",
       "22            1    1270       5  978300055\n",
       "27            1    1721       4  978300055\n",
       "37            1    1022       5  978300055\n",
       "24            1    2340       3  978300103\n",
       "...         ...     ...     ...        ...\n",
       "1000019    6040    2917       4  997454429\n",
       "999988     6040    1921       4  997454464\n",
       "1000172    6040    1784       3  997454464\n",
       "1000167    6040     161       3  997454486\n",
       "1000042    6040    1221       4  998315055\n",
       "\n",
       "[1000209 rows x 4 columns]"
      ]
     },
     "execution_count": 866,
     "metadata": {},
     "output_type": "execute_result"
    }
   ],
   "source": [
    "data_path = Path(os.getenv('HOME')+'/aiffel/yoochoose/data/') \n",
    "train_path = data_path / 'ratings.dat'\n",
    "\n",
    "def load_data(data_path: Path, nrows=None):\n",
    "    data = pd.read_csv(data_path, sep='::', header=None, usecols=[0, 1, 2, 3], dtype={0: np.int32, 1: np.int32, 2: np.int32}, nrows=nrows)\n",
    "    data.columns = ['UserId', 'ItemId', 'Rating', 'Time']\n",
    "    return data\n",
    "\n",
    "data = load_data(train_path, None)\n",
    "data.sort_values(['UserId', 'Time'], inplace=True)  # data를 id와 시간 순서로 정렬해줍니다.\n",
    "data"
   ]
  },
  {
   "cell_type": "markdown",
   "id": "27f7e191",
   "metadata": {},
   "source": [
    "# 데이터의 전처리"
   ]
  },
  {
   "cell_type": "code",
   "execution_count": 867,
   "id": "55a34424",
   "metadata": {},
   "outputs": [
    {
     "data": {
      "text/plain": [
       "(6040, 3706)"
      ]
     },
     "execution_count": 867,
     "metadata": {},
     "output_type": "execute_result"
    }
   ],
   "source": [
    "data['UserId'].nunique(), data['ItemId'].nunique()"
   ]
  },
  {
   "cell_type": "code",
   "execution_count": 868,
   "id": "4e192329",
   "metadata": {},
   "outputs": [
    {
     "data": {
      "text/plain": [
       "<bound method DataFrame.info of          UserId  ItemId  Rating       Time\n",
       "31            1    3186       4  978300019\n",
       "22            1    1270       5  978300055\n",
       "27            1    1721       4  978300055\n",
       "37            1    1022       5  978300055\n",
       "24            1    2340       3  978300103\n",
       "...         ...     ...     ...        ...\n",
       "1000019    6040    2917       4  997454429\n",
       "999988     6040    1921       4  997454464\n",
       "1000172    6040    1784       3  997454464\n",
       "1000167    6040     161       3  997454486\n",
       "1000042    6040    1221       4  998315055\n",
       "\n",
       "[1000209 rows x 4 columns]>"
      ]
     },
     "execution_count": 868,
     "metadata": {},
     "output_type": "execute_result"
    }
   ],
   "source": [
    "data.info"
   ]
  },
  {
   "cell_type": "code",
   "execution_count": 869,
   "id": "d8dd0d6a",
   "metadata": {},
   "outputs": [
    {
     "data": {
      "text/plain": [
       "UserId\n",
       "1        53\n",
       "2       129\n",
       "3        51\n",
       "4        21\n",
       "5       198\n",
       "       ... \n",
       "6036    888\n",
       "6037    202\n",
       "6038     20\n",
       "6039    123\n",
       "6040    341\n",
       "Length: 6040, dtype: int64"
      ]
     },
     "execution_count": 869,
     "metadata": {},
     "output_type": "execute_result"
    }
   ],
   "source": [
    "user_length = data.groupby('UserId').size()\n",
    "user_length"
   ]
  },
  {
   "cell_type": "code",
   "execution_count": 870,
   "id": "be5523fb",
   "metadata": {},
   "outputs": [
    {
     "data": {
      "text/plain": [
       "(96.0, 165.5975165562914)"
      ]
     },
     "execution_count": 870,
     "metadata": {},
     "output_type": "execute_result"
    }
   ],
   "source": [
    "user_length.median(), user_length.mean()"
   ]
  },
  {
   "cell_type": "code",
   "execution_count": 871,
   "id": "5087133c",
   "metadata": {},
   "outputs": [
    {
     "data": {
      "text/plain": [
       "(20, 2314)"
      ]
     },
     "execution_count": 871,
     "metadata": {},
     "output_type": "execute_result"
    }
   ],
   "source": [
    "user_length.min(), user_length.max()"
   ]
  },
  {
   "cell_type": "code",
   "execution_count": 872,
   "id": "e6bb317c",
   "metadata": {},
   "outputs": [
    {
     "data": {
      "text/plain": [
       "1343.181000000005"
      ]
     },
     "execution_count": 872,
     "metadata": {},
     "output_type": "execute_result"
    }
   ],
   "source": [
    "user_length.quantile(0.999)"
   ]
  },
  {
   "cell_type": "code",
   "execution_count": 873,
   "id": "ae3bc5c0",
   "metadata": {},
   "outputs": [
    {
     "data": {
      "text/html": [
       "<div>\n",
       "<style scoped>\n",
       "    .dataframe tbody tr th:only-of-type {\n",
       "        vertical-align: middle;\n",
       "    }\n",
       "\n",
       "    .dataframe tbody tr th {\n",
       "        vertical-align: top;\n",
       "    }\n",
       "\n",
       "    .dataframe thead th {\n",
       "        text-align: right;\n",
       "    }\n",
       "</style>\n",
       "<table border=\"1\" class=\"dataframe\">\n",
       "  <thead>\n",
       "    <tr style=\"text-align: right;\">\n",
       "      <th></th>\n",
       "      <th>UserId</th>\n",
       "      <th>ItemId</th>\n",
       "      <th>Rating</th>\n",
       "      <th>Time</th>\n",
       "    </tr>\n",
       "  </thead>\n",
       "  <tbody>\n",
       "    <tr>\n",
       "      <th>696969</th>\n",
       "      <td>4169</td>\n",
       "      <td>1268</td>\n",
       "      <td>5</td>\n",
       "      <td>965333392</td>\n",
       "    </tr>\n",
       "    <tr>\n",
       "      <th>697168</th>\n",
       "      <td>4169</td>\n",
       "      <td>2617</td>\n",
       "      <td>4</td>\n",
       "      <td>965333392</td>\n",
       "    </tr>\n",
       "    <tr>\n",
       "      <th>697185</th>\n",
       "      <td>4169</td>\n",
       "      <td>2628</td>\n",
       "      <td>4</td>\n",
       "      <td>965333392</td>\n",
       "    </tr>\n",
       "    <tr>\n",
       "      <th>697219</th>\n",
       "      <td>4169</td>\n",
       "      <td>2653</td>\n",
       "      <td>4</td>\n",
       "      <td>965333392</td>\n",
       "    </tr>\n",
       "    <tr>\n",
       "      <th>697275</th>\n",
       "      <td>4169</td>\n",
       "      <td>423</td>\n",
       "      <td>3</td>\n",
       "      <td>965333392</td>\n",
       "    </tr>\n",
       "    <tr>\n",
       "      <th>...</th>\n",
       "      <td>...</td>\n",
       "      <td>...</td>\n",
       "      <td>...</td>\n",
       "      <td>...</td>\n",
       "    </tr>\n",
       "    <tr>\n",
       "      <th>697882</th>\n",
       "      <td>4169</td>\n",
       "      <td>3754</td>\n",
       "      <td>2</td>\n",
       "      <td>1024174347</td>\n",
       "    </tr>\n",
       "    <tr>\n",
       "      <th>695702</th>\n",
       "      <td>4169</td>\n",
       "      <td>1413</td>\n",
       "      <td>3</td>\n",
       "      <td>1024175031</td>\n",
       "    </tr>\n",
       "    <tr>\n",
       "      <th>697358</th>\n",
       "      <td>4169</td>\n",
       "      <td>494</td>\n",
       "      <td>4</td>\n",
       "      <td>1024175760</td>\n",
       "    </tr>\n",
       "    <tr>\n",
       "      <th>695945</th>\n",
       "      <td>4169</td>\n",
       "      <td>1804</td>\n",
       "      <td>2</td>\n",
       "      <td>1024175783</td>\n",
       "    </tr>\n",
       "    <tr>\n",
       "      <th>696446</th>\n",
       "      <td>4169</td>\n",
       "      <td>1548</td>\n",
       "      <td>3</td>\n",
       "      <td>1024176337</td>\n",
       "    </tr>\n",
       "  </tbody>\n",
       "</table>\n",
       "<p>2314 rows × 4 columns</p>\n",
       "</div>"
      ],
      "text/plain": [
       "        UserId  ItemId  Rating        Time\n",
       "696969    4169    1268       5   965333392\n",
       "697168    4169    2617       4   965333392\n",
       "697185    4169    2628       4   965333392\n",
       "697219    4169    2653       4   965333392\n",
       "697275    4169     423       3   965333392\n",
       "...        ...     ...     ...         ...\n",
       "697882    4169    3754       2  1024174347\n",
       "695702    4169    1413       3  1024175031\n",
       "697358    4169     494       4  1024175760\n",
       "695945    4169    1804       2  1024175783\n",
       "696446    4169    1548       3  1024176337\n",
       "\n",
       "[2314 rows x 4 columns]"
      ]
     },
     "execution_count": 873,
     "metadata": {},
     "output_type": "execute_result"
    }
   ],
   "source": [
    "long_user = user_length[user_length==2314].index[0]\n",
    "data[data['UserId']==long_user]"
   ]
  },
  {
   "cell_type": "code",
   "execution_count": 874,
   "id": "a24d4dfe",
   "metadata": {},
   "outputs": [
    {
     "data": {
      "text/plain": [
       "20      0.014238\n",
       "21      0.029305\n",
       "22      0.042053\n",
       "23      0.055464\n",
       "24      0.068874\n",
       "          ...   \n",
       "1271    0.998179\n",
       "1277    0.998344\n",
       "1286    0.998510\n",
       "1302    0.998675\n",
       "1323    0.998841\n",
       "Length: 736, dtype: float64"
      ]
     },
     "execution_count": 874,
     "metadata": {},
     "output_type": "execute_result"
    }
   ],
   "source": [
    "length_count = user_length.groupby(user_length).size()\n",
    "length_percent_cumsum = length_count.cumsum() / length_count.sum()\n",
    "length_percent_cumsum_999 = length_percent_cumsum[length_percent_cumsum < 0.999]\n",
    "\n",
    "length_percent_cumsum_999"
   ]
  },
  {
   "cell_type": "code",
   "execution_count": 875,
   "id": "c2f59130",
   "metadata": {},
   "outputs": [
    {
     "data": {
      "image/png": "[encoded data removed]",
      "text/plain": [
       "<Figure size 864x720 with 1 Axes>"
      ]
     },
     "metadata": {
      "needs_background": "light"
     },
     "output_type": "display_data"
    }
   ],
   "source": [
    "import matplotlib.pyplot as plt\n",
    "\n",
    "plt.figure(figsize=(12, 10))\n",
    "plt.bar(x=length_percent_cumsum_999.index,\n",
    "        height=length_percent_cumsum_999, color='red')\n",
    "plt.xticks(length_percent_cumsum_999.index)\n",
    "plt.yticks(np.arange(0, 1.01, 0.05))\n",
    "plt.title('Cumsum Percentage Until 0.999', size=20)\n",
    "plt.show()"
   ]
  },
  {
   "cell_type": "code",
   "execution_count": 876,
   "id": "05bb87e1",
   "metadata": {},
   "outputs": [
    {
     "name": "stdout",
     "output_type": "stream",
     "text": [
      "956703932\n",
      "1046454590\n"
     ]
    }
   ],
   "source": [
    "oldest, latest = data['Time'].min(), data['Time'].max()\n",
    "print(oldest) \n",
    "print(latest)"
   ]
  },
  {
   "cell_type": "code",
   "execution_count": 877,
   "id": "91038ca6",
   "metadata": {},
   "outputs": [
    {
     "data": {
      "text/plain": [
       "numpy.int64"
      ]
     },
     "execution_count": 877,
     "metadata": {},
     "output_type": "execute_result"
    }
   ],
   "source": [
    "type(latest)"
   ]
  },
  {
   "cell_type": "code",
   "execution_count": 878,
   "id": "0bd26aa1",
   "metadata": {},
   "outputs": [],
   "source": [
    "data['Time'] = pd.to_datetime(data['Time'], unit='s')"
   ]
  },
  {
   "cell_type": "code",
   "execution_count": 879,
   "id": "07f2895c",
   "metadata": {},
   "outputs": [],
   "source": [
    "latest =  pd.to_datetime(latest, unit='s')"
   ]
  },
  {
   "cell_type": "code",
   "execution_count": 880,
   "id": "de68bccf",
   "metadata": {},
   "outputs": [
    {
     "data": {
      "text/plain": [
       "pandas._libs.tslibs.timestamps.Timestamp"
      ]
     },
     "execution_count": 880,
     "metadata": {},
     "output_type": "execute_result"
    }
   ],
   "source": [
    "type(latest)"
   ]
  },
  {
   "cell_type": "code",
   "execution_count": 881,
   "id": "afc6740a",
   "metadata": {},
   "outputs": [
    {
     "data": {
      "text/html": [
       "<div>\n",
       "<style scoped>\n",
       "    .dataframe tbody tr th:only-of-type {\n",
       "        vertical-align: middle;\n",
       "    }\n",
       "\n",
       "    .dataframe tbody tr th {\n",
       "        vertical-align: top;\n",
       "    }\n",
       "\n",
       "    .dataframe thead th {\n",
       "        text-align: right;\n",
       "    }\n",
       "</style>\n",
       "<table border=\"1\" class=\"dataframe\">\n",
       "  <thead>\n",
       "    <tr style=\"text-align: right;\">\n",
       "      <th></th>\n",
       "      <th>UserId</th>\n",
       "      <th>ItemId</th>\n",
       "      <th>Rating</th>\n",
       "      <th>Time</th>\n",
       "    </tr>\n",
       "  </thead>\n",
       "  <tbody>\n",
       "    <tr>\n",
       "      <th>5200</th>\n",
       "      <td>36</td>\n",
       "      <td>2269</td>\n",
       "      <td>5</td>\n",
       "      <td>2002-12-22 08:05:50</td>\n",
       "    </tr>\n",
       "    <tr>\n",
       "      <th>5256</th>\n",
       "      <td>36</td>\n",
       "      <td>1701</td>\n",
       "      <td>4</td>\n",
       "      <td>2002-12-22 08:05:50</td>\n",
       "    </tr>\n",
       "    <tr>\n",
       "      <th>5184</th>\n",
       "      <td>36</td>\n",
       "      <td>2694</td>\n",
       "      <td>3</td>\n",
       "      <td>2002-12-22 08:08:14</td>\n",
       "    </tr>\n",
       "    <tr>\n",
       "      <th>5364</th>\n",
       "      <td>36</td>\n",
       "      <td>3786</td>\n",
       "      <td>4</td>\n",
       "      <td>2002-12-22 08:08:41</td>\n",
       "    </tr>\n",
       "    <tr>\n",
       "      <th>5262</th>\n",
       "      <td>36</td>\n",
       "      <td>2369</td>\n",
       "      <td>4</td>\n",
       "      <td>2002-12-22 08:09:24</td>\n",
       "    </tr>\n",
       "    <tr>\n",
       "      <th>...</th>\n",
       "      <td>...</td>\n",
       "      <td>...</td>\n",
       "      <td>...</td>\n",
       "      <td>...</td>\n",
       "    </tr>\n",
       "    <tr>\n",
       "      <th>984731</th>\n",
       "      <td>5950</td>\n",
       "      <td>3948</td>\n",
       "      <td>4</td>\n",
       "      <td>2003-02-27 18:13:57</td>\n",
       "    </tr>\n",
       "    <tr>\n",
       "      <th>984682</th>\n",
       "      <td>5950</td>\n",
       "      <td>3578</td>\n",
       "      <td>4</td>\n",
       "      <td>2003-02-27 18:14:30</td>\n",
       "    </tr>\n",
       "    <tr>\n",
       "      <th>984475</th>\n",
       "      <td>5950</td>\n",
       "      <td>3793</td>\n",
       "      <td>3</td>\n",
       "      <td>2003-02-27 18:15:10</td>\n",
       "    </tr>\n",
       "    <tr>\n",
       "      <th>984660</th>\n",
       "      <td>5950</td>\n",
       "      <td>3555</td>\n",
       "      <td>2</td>\n",
       "      <td>2003-02-27 18:15:37</td>\n",
       "    </tr>\n",
       "    <tr>\n",
       "      <th>984733</th>\n",
       "      <td>5950</td>\n",
       "      <td>1262</td>\n",
       "      <td>4</td>\n",
       "      <td>2003-02-27 18:17:38</td>\n",
       "    </tr>\n",
       "  </tbody>\n",
       "</table>\n",
       "<p>4616 rows × 4 columns</p>\n",
       "</div>"
      ],
      "text/plain": [
       "        UserId  ItemId  Rating                Time\n",
       "5200        36    2269       5 2002-12-22 08:05:50\n",
       "5256        36    1701       4 2002-12-22 08:05:50\n",
       "5184        36    2694       3 2002-12-22 08:08:14\n",
       "5364        36    3786       4 2002-12-22 08:08:41\n",
       "5262        36    2369       4 2002-12-22 08:09:24\n",
       "...        ...     ...     ...                 ...\n",
       "984731    5950    3948       4 2003-02-27 18:13:57\n",
       "984682    5950    3578       4 2003-02-27 18:14:30\n",
       "984475    5950    3793       3 2003-02-27 18:15:10\n",
       "984660    5950    3555       2 2003-02-27 18:15:37\n",
       "984733    5950    1262       4 2003-02-27 18:17:38\n",
       "\n",
       "[4616 rows x 4 columns]"
      ]
     },
     "execution_count": 881,
     "metadata": {},
     "output_type": "execute_result"
    }
   ],
   "source": [
    "month_ago = latest - dt.timedelta(90)     # 최종 날짜로부터 90일 이전 날짜를 구한다.  \n",
    "data = data[data['Time'] > month_ago]   # 방금 구한 날짜 이후의 데이터만 모은다. \n",
    "#data = data[data['Rating']>1]\n",
    "data"
   ]
  },
  {
   "cell_type": "code",
   "execution_count": 882,
   "id": "ffdad1d5",
   "metadata": {},
   "outputs": [
    {
     "name": "stdout",
     "output_type": "stream",
     "text": [
      "✅ Train size: 3692, Validation size: 461, Test size: 463\n"
     ]
    }
   ],
   "source": [
    "# ✅ 시간 기준 정렬 후 Train, Validation, Test 데이터 분할\n",
    "data = data.sort_values(['UserId', 'Time']).reset_index(drop=True)\n",
    "\n",
    "train_size = int(len(data) * 0.8)\n",
    "val_size = int(len(data) * 0.1)\n",
    "\n",
    "train = data.iloc[:train_size]\n",
    "val = data.iloc[train_size: train_size + val_size]\n",
    "test = data.iloc[train_size + val_size:]\n",
    "\n",
    "print(f\"✅ Train size: {len(train)}, Validation size: {len(val)}, Test size: {len(test)}\")\n"
   ]
  },
  {
   "cell_type": "code",
   "execution_count": 883,
   "id": "c1b8fcec",
   "metadata": {},
   "outputs": [
    {
     "name": "stdout",
     "output_type": "stream",
     "text": [
      "✅ Train size: 3692\n",
      "✅ Val size  : 382\n",
      "✅ Test size : 420\n"
     ]
    }
   ],
   "source": [
    "# 1) Train에서 등장한 UserId 및 ItemId 목록 구하기\n",
    "train_user_ids = train['UserId'].unique()\n",
    "train_item_ids = train['ItemId'].unique()\n",
    "\n",
    "# 2) Validation에서 Train에 없는 Item은 제외\n",
    "val = val[val['ItemId'].isin(train_item_ids)]\n",
    "\n",
    "# 3) Test에서도 일부 새로운 Item을 유지 (Train에 50% 이상 등장한 Item 유지)\n",
    "test = test[(test['ItemId'].isin(train_item_ids)) | \n",
    "            (test['ItemId'].isin(test['ItemId'].value_counts().index[:int(len(test) * 0.5)]))]\n",
    "\n",
    "# 4) Train에서 가장 많이 등장한 아이템을 선택 (Top-N 인기 아이템)\n",
    "top_items = train['ItemId'].value_counts().index[:10].tolist()\n",
    "\n",
    "# 5) Test 데이터에서 Train에 없는 UserId가 있다면, Top-N 인기 아이템을 제공\n",
    "if len(test) > 0 and len(top_items) > 0:\n",
    "    test.loc[test['ItemId'].isin(train_item_ids) == False, 'ItemId'] = np.random.choice(top_items, size=len(test[test['ItemId'].isin(train_item_ids) == False]))\n",
    "\n",
    "# 6) Test 데이터가 비어있는 경우, Train 데이터에서 일부 샘플을 복사\n",
    "if len(test) == 0:\n",
    "    test = train.sample(n=int(len(train) * 0.1), random_state=42).copy()\n",
    "\n",
    "print(\"✅ Train size:\", len(train))\n",
    "print(\"✅ Val size  :\", len(val))\n",
    "print(\"✅ Test size :\", len(test))\n",
    "\n",
    "\n"
   ]
  },
  {
   "cell_type": "code",
   "execution_count": 884,
   "id": "488ce003",
   "metadata": {},
   "outputs": [
    {
     "data": {
      "text/html": [
       "<div>\n",
       "<style scoped>\n",
       "    .dataframe tbody tr th:only-of-type {\n",
       "        vertical-align: middle;\n",
       "    }\n",
       "\n",
       "    .dataframe tbody tr th {\n",
       "        vertical-align: top;\n",
       "    }\n",
       "\n",
       "    .dataframe thead th {\n",
       "        text-align: right;\n",
       "    }\n",
       "</style>\n",
       "<table border=\"1\" class=\"dataframe\">\n",
       "  <thead>\n",
       "    <tr style=\"text-align: right;\">\n",
       "      <th></th>\n",
       "      <th>UserId</th>\n",
       "      <th>ItemId</th>\n",
       "      <th>Rating</th>\n",
       "      <th>Time</th>\n",
       "    </tr>\n",
       "  </thead>\n",
       "  <tbody>\n",
       "    <tr>\n",
       "      <th>0</th>\n",
       "      <td>36</td>\n",
       "      <td>2269</td>\n",
       "      <td>5</td>\n",
       "      <td>2002-12-22 08:05:50</td>\n",
       "    </tr>\n",
       "    <tr>\n",
       "      <th>1</th>\n",
       "      <td>36</td>\n",
       "      <td>1701</td>\n",
       "      <td>4</td>\n",
       "      <td>2002-12-22 08:05:50</td>\n",
       "    </tr>\n",
       "    <tr>\n",
       "      <th>2</th>\n",
       "      <td>36</td>\n",
       "      <td>2694</td>\n",
       "      <td>3</td>\n",
       "      <td>2002-12-22 08:08:14</td>\n",
       "    </tr>\n",
       "    <tr>\n",
       "      <th>3</th>\n",
       "      <td>36</td>\n",
       "      <td>3786</td>\n",
       "      <td>4</td>\n",
       "      <td>2002-12-22 08:08:41</td>\n",
       "    </tr>\n",
       "    <tr>\n",
       "      <th>4</th>\n",
       "      <td>36</td>\n",
       "      <td>2369</td>\n",
       "      <td>4</td>\n",
       "      <td>2002-12-22 08:09:24</td>\n",
       "    </tr>\n",
       "  </tbody>\n",
       "</table>\n",
       "</div>"
      ],
      "text/plain": [
       "   UserId  ItemId  Rating                Time\n",
       "0      36    2269       5 2002-12-22 08:05:50\n",
       "1      36    1701       4 2002-12-22 08:05:50\n",
       "2      36    2694       3 2002-12-22 08:08:14\n",
       "3      36    3786       4 2002-12-22 08:08:41\n",
       "4      36    2369       4 2002-12-22 08:09:24"
      ]
     },
     "execution_count": 884,
     "metadata": {},
     "output_type": "execute_result"
    }
   ],
   "source": [
    "train.head()"
   ]
  },
  {
   "cell_type": "code",
   "execution_count": 885,
   "id": "354cfb61",
   "metadata": {},
   "outputs": [],
   "source": [
    "save_path = data_path / 'processed'\n",
    "save_path.mkdir(parents=True, exist_ok=True)\n",
    "\n",
    "train.to_pickle(save_path / 'train.pkl')\n",
    "val.to_pickle(save_path / 'valid.pkl')\n",
    "test.to_pickle(save_path / 'test.pkl')"
   ]
  },
  {
   "cell_type": "markdown",
   "id": "bf57210f",
   "metadata": {},
   "source": [
    "# 모델 구성"
   ]
  },
  {
   "cell_type": "code",
   "execution_count": 886,
   "id": "373279c6",
   "metadata": {},
   "outputs": [],
   "source": [
    "import numpy as np\n",
    "import tensorflow as tf\n",
    "from tensorflow.keras.layers import Input, Dense, Dropout, GRU\n",
    "from tensorflow.keras.losses import categorical_crossentropy\n",
    "from tensorflow.keras.models import Model\n",
    "from tensorflow.keras.optimizers import Adam\n",
    "from tensorflow.keras.utils import to_categorical\n",
    "from tqdm import tqdm"
   ]
  },
  {
   "cell_type": "code",
   "execution_count": 887,
   "id": "2eabb2ab",
   "metadata": {},
   "outputs": [
    {
     "name": "stdout",
     "output_type": "stream",
     "text": [
      "✅ 총 아이템 개수: 1644\n"
     ]
    }
   ],
   "source": [
    "# ✅ 전체 데이터에서 아이템 ID 인코딩 (0부터 시작하는 값으로 변환)\n",
    "all_data = pd.concat([train, val, test], ignore_index=True)\n",
    "all_data['ItemId_new'] = all_data['ItemId'].astype('category').cat.codes\n",
    "\n",
    "# ✅ 고유 아이템 개수\n",
    "num_items = all_data['ItemId_new'].nunique()\n",
    "print(\"✅ 총 아이템 개수:\", num_items)\n",
    "\n",
    "# ✅ Train, Validation, Test로 다시 분할\n",
    "train_mapped = all_data.iloc[:len(train)].copy()\n",
    "val_mapped = all_data.iloc[len(train): len(train) + len(val)].copy()\n",
    "test_mapped = all_data.iloc[len(train) + len(val):].copy()\n",
    "\n"
   ]
  },
  {
   "cell_type": "code",
   "execution_count": 888,
   "id": "b9c18a95",
   "metadata": {},
   "outputs": [
    {
     "name": "stdout",
     "output_type": "stream",
     "text": [
      "✅ train_X shape: (3692, 1, 1644), train_Y shape: (3692, 1644)\n",
      "✅ val_X shape: (382, 1, 1644), val_Y shape: (382, 1644)\n",
      "✅ test_X shape: (420, 1, 1644), test_Y shape: (420, 1644)\n"
     ]
    }
   ],
   "source": [
    "def prepare_data_with_rating(df, num_items):\n",
    "    \"\"\"\n",
    "    데이터를 (X, Y) 형태로 변환하는 함수 (Rating 반영)\n",
    "    - X: (N, 1, num_items) 크기의 원-핫 벡터 (입력 데이터)\n",
    "    - Y: (N, num_items) 크기의 가중치 원-핫 벡터 (정답 데이터, Rating 반영)\n",
    "    \"\"\"\n",
    "    N = len(df)\n",
    "    X = np.zeros((N, 1, num_items), dtype=np.float32)  # (N, 1, num_items) 형태\n",
    "    Y = np.zeros((N, num_items), dtype=np.float32)     # (N, num_items) 형태\n",
    "\n",
    "    for i, row in enumerate(df.itertuples()):\n",
    "        item_idx = row.ItemId_new\n",
    "        rating = row.Rating / 5.0  # Rating을 0~1 범위로 정규화\n",
    "\n",
    "        X[i, 0, item_idx] = 1.0  # X: 원-핫 벡터\n",
    "        Y[i, item_idx] = rating  # Y: Rating 값 반영 (가중치)\n",
    "\n",
    "    return X, Y\n",
    "\n",
    "# ✅ `ItemId_new`를 사용하여 X, Y 데이터 만들기\n",
    "train_X, train_Y = prepare_data_with_rating(train_mapped, num_items)\n",
    "val_X, val_Y = prepare_data_with_rating(val_mapped, num_items)\n",
    "test_X, test_Y = prepare_data_with_rating(test_mapped, num_items)\n",
    "\n",
    "print(f\"✅ train_X shape: {train_X.shape}, train_Y shape: {train_Y.shape}\")\n",
    "print(f\"✅ val_X shape: {val_X.shape}, val_Y shape: {val_Y.shape}\")\n",
    "print(f\"✅ test_X shape: {test_X.shape}, test_Y shape: {test_Y.shape}\")\n"
   ]
  },
  {
   "cell_type": "code",
   "execution_count": 889,
   "id": "49c7e72a",
   "metadata": {},
   "outputs": [],
   "source": [
    "batch_size = min(2048, len(train_X))\n",
    "\n",
    "\n",
    "def pad_to_batch_size(X, Y, batch_size):\n",
    "    num_pad = batch_size - (len(X) % batch_size)\n",
    "    if num_pad < batch_size:\n",
    "        X = np.pad(X, ((0, num_pad), (0, 0), (0, 0)), mode='constant')\n",
    "        Y = np.pad(Y, ((0, num_pad), (0, 0)), mode='constant')\n",
    "    return X, Y\n",
    "\n",
    "val_X, val_Y = pad_to_batch_size(val_X, val_Y, batch_size)\n",
    "test_X, test_Y = pad_to_batch_size(test_X, test_Y, batch_size)\n"
   ]
  },
  {
   "cell_type": "code",
   "execution_count": 890,
   "id": "2be7507f",
   "metadata": {},
   "outputs": [],
   "source": [
    "steps_per_epoch = max(1, len(train_X) // batch_size)\n"
   ]
  },
  {
   "cell_type": "code",
   "execution_count": 891,
   "id": "c7a8731e",
   "metadata": {},
   "outputs": [
    {
     "name": "stdout",
     "output_type": "stream",
     "text": [
      "Model: \"model_29\"\n",
      "_________________________________________________________________\n",
      "Layer (type)                 Output Shape              Param #   \n",
      "=================================================================\n",
      "input_30 (InputLayer)        [(None, 1, 1644)]         0         \n",
      "_________________________________________________________________\n",
      "GRU (GRU)                    [(None, 50), (None, 50)]  254400    \n",
      "_________________________________________________________________\n",
      "dropout_29 (Dropout)         (None, 50)                0         \n",
      "_________________________________________________________________\n",
      "dense_29 (Dense)             (None, 1644)              83844     \n",
      "=================================================================\n",
      "Total params: 338,244\n",
      "Trainable params: 338,244\n",
      "Non-trainable params: 0\n",
      "_________________________________________________________________\n"
     ]
    }
   ],
   "source": [
    "from tensorflow.keras.layers import Input, GRU, Dropout, Dense\n",
    "from tensorflow.keras.models import Model\n",
    "from tensorflow.keras.optimizers import Adam\n",
    "from tensorflow.keras.callbacks import EarlyStopping\n",
    "\n",
    "# ✅ 모델 생성\n",
    "inputs = Input(batch_shape=(None, 1, num_items))\n",
    "gru_outputs, _ = GRU(50, return_state=True, name='GRU')(inputs)\n",
    "dropout = Dropout(0.1)(gru_outputs)\n",
    "predictions = Dense(num_items, activation='softmax')(dropout)\n",
    "\n",
    "model = Model(inputs=inputs, outputs=predictions)\n",
    "\n",
    "# ✅ BPR Loss 적용\n",
    "def bpr_loss(y_true, y_pred):\n",
    "    pos_scores = tf.reduce_sum(y_true * y_pred, axis=-1)\n",
    "    neg_scores = tf.reduce_sum((1 - y_true) * y_pred, axis=-1)\n",
    "    return -tf.reduce_mean(tf.math.log_sigmoid(pos_scores - neg_scores))\n",
    "\n",
    "model.compile(loss=bpr_loss, optimizer=Adam(0.0001), metrics=['accuracy'])\n",
    "model.summary()\n"
   ]
  },
  {
   "cell_type": "code",
   "execution_count": 892,
   "id": "72df46ad",
   "metadata": {},
   "outputs": [
    {
     "name": "stdout",
     "output_type": "stream",
     "text": [
      "Epoch 1/20\n",
      "29/29 [==============================] - 2s 17ms/step - loss: 1.3126 - accuracy: 0.0000e+00 - val_loss: 1.3131 - val_accuracy: 0.0000e+00\n",
      "Epoch 2/20\n",
      "29/29 [==============================] - 0s 6ms/step - loss: 1.3126 - accuracy: 0.0000e+00 - val_loss: 1.3131 - val_accuracy: 0.0000e+00\n",
      "Epoch 3/20\n",
      "29/29 [==============================] - 0s 6ms/step - loss: 1.3126 - accuracy: 0.0000e+00 - val_loss: 1.3131 - val_accuracy: 0.0000e+00\n",
      "Epoch 4/20\n",
      "29/29 [==============================] - 0s 6ms/step - loss: 1.3126 - accuracy: 0.0011 - val_loss: 1.3131 - val_accuracy: 4.8828e-04\n",
      "Epoch 5/20\n",
      "29/29 [==============================] - 0s 6ms/step - loss: 1.3126 - accuracy: 0.0019 - val_loss: 1.3131 - val_accuracy: 4.8828e-04\n",
      "Epoch 6/20\n",
      "29/29 [==============================] - 0s 6ms/step - loss: 1.3126 - accuracy: 0.0054 - val_loss: 1.3131 - val_accuracy: 9.7656e-04\n",
      "Epoch 7/20\n",
      "29/29 [==============================] - 0s 6ms/step - loss: 1.3126 - accuracy: 0.0081 - val_loss: 1.3131 - val_accuracy: 9.7656e-04\n",
      "Epoch 8/20\n",
      "29/29 [==============================] - 0s 6ms/step - loss: 1.3126 - accuracy: 0.0060 - val_loss: 1.3131 - val_accuracy: 9.7656e-04\n",
      "Epoch 9/20\n",
      "29/29 [==============================] - 0s 6ms/step - loss: 1.3126 - accuracy: 0.0108 - val_loss: 1.3131 - val_accuracy: 0.0020\n",
      "Epoch 10/20\n",
      "29/29 [==============================] - 0s 6ms/step - loss: 1.3126 - accuracy: 0.0154 - val_loss: 1.3131 - val_accuracy: 0.0020\n",
      "Epoch 11/20\n",
      "29/29 [==============================] - 0s 6ms/step - loss: 1.3126 - accuracy: 0.0230 - val_loss: 1.3131 - val_accuracy: 0.0029\n",
      "Epoch 12/20\n",
      "29/29 [==============================] - 0s 6ms/step - loss: 1.3126 - accuracy: 0.0265 - val_loss: 1.3131 - val_accuracy: 0.0034\n",
      "Epoch 13/20\n",
      "29/29 [==============================] - 0s 6ms/step - loss: 1.3126 - accuracy: 0.0293 - val_loss: 1.3131 - val_accuracy: 0.0039\n",
      "Epoch 14/20\n",
      "29/29 [==============================] - 0s 6ms/step - loss: 1.3126 - accuracy: 0.0360 - val_loss: 1.3131 - val_accuracy: 0.0044\n",
      "Epoch 15/20\n",
      "29/29 [==============================] - 0s 6ms/step - loss: 1.3126 - accuracy: 0.0379 - val_loss: 1.3131 - val_accuracy: 0.0044\n",
      "Epoch 16/20\n",
      "29/29 [==============================] - 0s 6ms/step - loss: 1.3126 - accuracy: 0.0401 - val_loss: 1.3131 - val_accuracy: 0.0044\n",
      "Epoch 17/20\n",
      "29/29 [==============================] - 0s 6ms/step - loss: 1.3126 - accuracy: 0.0425 - val_loss: 1.3131 - val_accuracy: 0.0063\n",
      "Epoch 18/20\n",
      "29/29 [==============================] - 0s 6ms/step - loss: 1.3126 - accuracy: 0.0466 - val_loss: 1.3131 - val_accuracy: 0.0063\n",
      "Epoch 19/20\n",
      "29/29 [==============================] - 0s 6ms/step - loss: 1.3126 - accuracy: 0.0466 - val_loss: 1.3131 - val_accuracy: 0.0063\n",
      "Epoch 20/20\n",
      "29/29 [==============================] - 0s 6ms/step - loss: 1.3126 - accuracy: 0.0517 - val_loss: 1.3131 - val_accuracy: 0.0073\n"
     ]
    },
    {
     "data": {
      "text/plain": [
       "<keras.callbacks.History at 0x7f01629dc3d0>"
      ]
     },
     "execution_count": 892,
     "metadata": {},
     "output_type": "execute_result"
    }
   ],
   "source": [
    "early_stopping = EarlyStopping(monitor='val_loss', patience=3, restore_best_weights=True)\n",
    "\n",
    "# ✅ 모델 학습\n",
    "epochs = 20\n",
    "batch_size = 128\n",
    "\n",
    "model.fit(\n",
    "    x=train_X,\n",
    "    y=train_Y,\n",
    "    batch_size=batch_size,\n",
    "    epochs=epochs,\n",
    "    validation_data=(val_X, val_Y),\n",
    "    callbacks=[early_stopping],\n",
    "    verbose=1\n",
    ")\n"
   ]
  },
  {
   "cell_type": "code",
   "execution_count": 893,
   "id": "4c6a5ff2",
   "metadata": {},
   "outputs": [
    {
     "name": "stdout",
     "output_type": "stream",
     "text": [
      "\n",
      "=== Test Evaluation ===\n",
      "16/16 [==============================] - 0s 2ms/step - loss: 1.3131 - accuracy: 0.0337\n",
      "[Test] Loss=1.3131, Acc=0.0337\n"
     ]
    }
   ],
   "source": [
    "print(\"\\n=== Test Evaluation ===\")\n",
    "test_loss, test_acc = model.evaluate(test_X, test_Y, batch_size=batch_size, verbose=1)\n",
    "print(f\"[Test] Loss={test_loss:.4f}, Acc={test_acc:.4f}\")\n"
   ]
  },
  {
   "cell_type": "code",
   "execution_count": 894,
   "id": "ea212b28",
   "metadata": {},
   "outputs": [],
   "source": [
    "def mrr_k(pred, truth: int, k: int):\n",
    "    indexing = np.where(pred[:k] == truth)[0]\n",
    "    if len(indexing) > 0:\n",
    "        return 1 / (indexing[0] + 1)\n",
    "    else:\n",
    "        return 0\n",
    "\n",
    "\n",
    "def recall_k(pred, truth: int, k: int) -> int:\n",
    "    answer = truth in pred[:k]\n",
    "    return int(answer)"
   ]
  },
  {
   "cell_type": "code",
   "execution_count": 895,
   "id": "78512c66",
   "metadata": {},
   "outputs": [
    {
     "name": "stdout",
     "output_type": "stream",
     "text": [
      "✅ Recall@10: 0.0444\n",
      "✅ MRR@10: 0.0414\n"
     ]
    }
   ],
   "source": [
    "# ✅ Recall@K 및 MRR@K 계산\n",
    "k = 10\n",
    "recall_scores = []\n",
    "mrr_scores = []\n",
    "\n",
    "for i in range(len(true_items)):\n",
    "    pred_items = top_k_preds[i]\n",
    "    true_item = true_items[i]\n",
    "\n",
    "    recall_scores.append(recall_k(pred_items, true_item, k))\n",
    "    mrr_scores.append(mrr_k(pred_items, true_item, k))\n",
    "\n",
    "# ✅ 최종 평가 결과\n",
    "recall_avg = np.mean(recall_scores)\n",
    "mrr_avg = np.mean(mrr_scores)\n",
    "\n",
    "print(f\"✅ Recall@{k}: {recall_avg:.4f}\")\n",
    "print(f\"✅ MRR@{k}: {mrr_avg:.4f}\")\n",
    "\n"
   ]
  },
  {
   "cell_type": "code",
   "execution_count": 896,
   "id": "79d630e4",
   "metadata": {},
   "outputs": [
    {
     "name": "stdout",
     "output_type": "stream",
     "text": [
      "[[0.00061924 0.00060939 0.00060974 ... 0.00061009 0.00060809 0.00061674]\n",
      " [0.000621   0.00060442 0.00060785 ... 0.00060389 0.00060533 0.00061689]\n",
      " [0.00062092 0.00060774 0.00061626 ... 0.0006078  0.00060884 0.00061695]\n",
      " ...\n",
      " [0.00061973 0.00060902 0.00061339 ... 0.00060801 0.00060529 0.00061797]\n",
      " [0.00061973 0.00060902 0.00061339 ... 0.00060801 0.00060529 0.00061797]\n",
      " [0.00061973 0.00060902 0.00061339 ... 0.00060801 0.00060529 0.00061797]]\n",
      "[[1236  800  110 ... 1639  679  498]\n",
      " [1236  403  280 ...  454 1579 1628]\n",
      " [1236  246 1579 ... 1628  943  433]\n",
      " ...\n",
      " [1236 1579  800 ... 1509  799  491]\n",
      " [1236 1579  800 ... 1509  799  491]\n",
      " [1236 1579  800 ... 1509  799  491]]\n",
      "[ 800 1236  353 ...    0    0    0]\n"
     ]
    }
   ],
   "source": [
    "# ✅ 모델 예측 (Softmax 확률 출력)\n",
    "y_pred = model.predict(test_X, batch_size=128)\n",
    "\n",
    "# ✅ 추천 아이템 리스트 생성 (Top-K 추천)\n",
    "k = 10\n",
    "top_k_preds = np.argsort(-y_pred, axis=1)[:, :k]  # 확률이 높은 상위 K개 아이템 추출\n",
    "\n",
    "# ✅ 실제 정답 아이템 리스트\n",
    "true_items = np.argmax(test_Y, axis=1)  # 실제 정답 아이템 (one-hot -> index 변환)\n",
    "\n",
    "print(y_pred)\n",
    "print(top_k_preds)\n",
    "print(true_items)"
   ]
  },
  {
   "cell_type": "code",
   "execution_count": null,
   "id": "17628204",
   "metadata": {},
   "outputs": [],
   "source": []
  }
 ],
 "metadata": {
  "kernelspec": {
   "display_name": "Python 3 (ipykernel)",
   "language": "python",
   "name": "python3"
  },
  "language_info": {
   "codemirror_mode": {
    "name": "ipython",
    "version": 3
   },
   "file_extension": ".py",
   "mimetype": "text/x-python",
   "name": "python",
   "nbconvert_exporter": "python",
   "pygments_lexer": "ipython3",
   "version": "3.9.7"
  }
 },
 "nbformat": 4,
 "nbformat_minor": 5
}
