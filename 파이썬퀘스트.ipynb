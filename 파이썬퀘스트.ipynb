{
  "nbformat": 4,
  "nbformat_minor": 0,
  "metadata": {
    "colab": {
      "provenance": [],
      "authorship_tag": "ABX9TyNdeIXHzkTZBDmIu31mb7ri",
      "include_colab_link": true
    },
    "kernelspec": {
      "name": "python3",
      "display_name": "Python 3"
    },
    "language_info": {
      "name": "python"
    }
  },
  "cells": [
    {
      "cell_type": "markdown",
      "metadata": {
        "id": "view-in-github",
        "colab_type": "text"
      },
      "source": [
        "<a href=\"https://colab.research.google.com/github/ez4happy/first-repository/blob/master/%ED%8C%8C%EC%9D%B4%EC%8D%AC%ED%80%98%EC%8A%A4%ED%8A%B8.ipynb\" target=\"_parent\"><img src=\"https://colab.research.google.com/assets/colab-badge.svg\" alt=\"Open In Colab\"/></a>"
      ]
    },
    {
      "cell_type": "code",
      "execution_count": 10,
      "metadata": {
        "colab": {
          "base_uri": "https://localhost:8080/"
        },
        "id": "t_Bmd2k8OcqD",
        "outputId": "fe95aa9c-ceb1-4e1f-a861-7698cdf3a15d"
      },
      "outputs": [
        {
          "output_type": "stream",
          "name": "stdout",
          "text": [
            "10000\n"
          ]
        }
      ],
      "source": [
        "import random\n",
        "\n",
        "class Account:\n",
        "  account_count = 0\n",
        "  def __init__(self, owner, initial_balance):\n",
        "    self.bank_name = \"SCbank \"\n",
        "    self.owner = owner\n",
        "    self.balance = initial_balance\n",
        "    self.account_number = self.generate_account_number()\n",
        "    Account.account_count += 1\n",
        "\n",
        "  def generate_account_number(self):\n",
        "      first = random.randint(100,999)\n",
        "      second = random.randint(10,99)\n",
        "      third = random.randint(100000,999999)\n",
        "      return f\"{first}-{second}-{third}\"\n",
        "\n",
        " @classmethod\n",
        "  def get_acount_num(cls):\n",
        "       return cls.account_count\n",
        "\n",
        "\n",
        "  def deposit(self, amount):\n",
        "      if amount < 1:\n",
        "          print(\"최소 1원이상 입금 가능\")\n",
        "      else:\n",
        "          self.balance += amount\n",
        "          self.deposit_count += 1\n",
        "          print(f\"{amount}원 입금되었습니다. 현잔액 {self.balance}원\")\n",
        "          if self.deposit_count%5 == 0 :\n",
        "             interest = self.balance * 0.01\n",
        "             self.balance += interest\n",
        "\n",
        "  def withdraw(self, amount):\n",
        "      if amount > self.balance:\n",
        "          print(\"잔고 부족\")\n",
        "      else:\n",
        "          self.banlace -= amount\n",
        "          print(f\"{amount}원 출금되셨습니다. 현잔액 {self.balance}원\")\n",
        "\n",
        "  def display_info(self):\n",
        "      print(f\"은행이름 : {self.bank_name}, 예금주 : {self.owner}, 계좌번호 : {self.account_number}, 잔고 : {self.balance}원\")\n",
        "\n",
        "account1 = Account(\"노승호\", 100)\n",
        "account2 = Account(\"권미경\", 1000)\n",
        "account3 = Account(\"김정은\", 10000)\n",
        "\n",
        "accounts = [account1, account2, account3]\n",
        "\n",
        "print(account3.balance)\n",
        "\n",
        "\n",
        "\n",
        "\n"
      ]
    }
  ]
}